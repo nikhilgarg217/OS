{
 "cells": [
  {
   "cell_type": "code",
   "execution_count": 4,
   "metadata": {},
   "outputs": [
    {
     "name": "stdout",
     "output_type": "stream",
     "text": [
      "Processes   Burst Time   Arrival Time     Waiting Time   Turn-Around Time \n",
      "\n",
      "  1 \t\t 5 \t\t 0 \t\t 0 \t\t  5\n",
      "  2 \t\t 9 \t\t 1 \t\t 4 \t\t  13\n",
      "  3 \t\t 6 \t\t 2 \t\t 12 \t\t  18\n",
      "Average waiting time:  5.333333333333333\n",
      "\n",
      "Average turnaround time  12.0\n"
     ]
    }
   ],
   "source": [
    "def TurnAroundTime(processes, n, BT, wt, tat):\n",
    "    for i in range(n):\n",
    "        tat[i] = BT[i] + wt[i]\n",
    "def WaitingTime(processes, n, BT, wt, at):\n",
    "    serv_time = [0] * n\n",
    "    serv_time[0] = 0\n",
    "    wt[0] = 0\n",
    "    for i in range(1, n):\n",
    "        serv_time[i] = (serv_time[i - 1] + BT[i - 1])\n",
    "        wt[i] = serv_time[i] - at[i]\n",
    "        if (wt[i] < 0):\n",
    "            wt[i] = 0\n",
    "def avgTime(processes, n, BT, at):\n",
    "    wt = [0] * n\n",
    "    tat = [0] * n\n",
    "    WaitingTime(processes, n, BT, wt, at)\n",
    "    TurnAroundTime(processes, n, BT, wt, tat)\n",
    "    print(\"Processes   Burst Time   Arrival Time     Waiting\",\n",
    "          \"Time   Turn-Around Time \\n\")\n",
    "    total_wt = 0\n",
    "    total_tat = 0\n",
    "    for i in range(n):\n",
    "        total_wt = total_wt + wt[i]\n",
    "        total_tat = total_tat + tat[i]\n",
    "        print(\" \", i + 1, \"\\t\\t\", BT[i], \"\\t\\t\", at[i],\n",
    "              \"\\t\\t\", wt[i], \"\\t\\t \", tat[i])\n",
    "    print(\"Average waiting time: \",(total_wt /n))\n",
    "    print(\"\\nAverage turnaround time \", total_tat / n)\n",
    "\n",
    "at = [0,1,2] \n",
    "processes = [1, 2, 3]\n",
    "BT = [5, 9, 6]\n",
    "n = 3\n",
    "avgTime(processes, n, BT, at)\n"
   ]
  },
  {
   "cell_type": "code",
   "execution_count": null,
   "metadata": {},
   "outputs": [],
   "source": []
  }
 ],
 "metadata": {
  "kernelspec": {
   "display_name": "Python 3",
   "language": "python",
   "name": "python3"
  },
  "language_info": {
   "codemirror_mode": {
    "name": "ipython",
    "version": 3
   },
   "file_extension": ".py",
   "mimetype": "text/x-python",
   "name": "python",
   "nbconvert_exporter": "python",
   "pygments_lexer": "ipython3",
   "version": "3.7.7"
  }
 },
 "nbformat": 4,
 "nbformat_minor": 4
}
