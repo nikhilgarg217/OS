{
 "cells": [
  {
   "cell_type": "code",
   "execution_count": 6,
   "metadata": {},
   "outputs": [
    {
     "name": "stdout",
     "output_type": "stream",
     "text": [
      "Enter the number of process: \n",
      "5\n",
      "Enter the burst time of the processes: \n",
      "\n",
      "1 2 3 4 5\n",
      "\n",
      "\n",
      "Process\t  Burst Time\t  Waiting Time\t  Turn Around Time\n",
      "0\t\t1\t\t0\t\t1\n",
      "\n",
      "\n",
      "1\t\t2\t\t1\t\t3\n",
      "\n",
      "\n",
      "2\t\t3\t\t3\t\t6\n",
      "\n",
      "\n",
      "3\t\t4\t\t6\t\t10\n",
      "\n",
      "\n",
      "4\t\t5\t\t10\t\t15\n",
      "\n",
      "\n",
      "Average Waiting time is: 4.0\n",
      "Average TurnAround Time is: 6.8\n"
     ]
    }
   ],
   "source": [
    "bt=[]\n",
    "print(\"Enter the number of process: \")\n",
    "n=int(input())\n",
    "print(\"Enter the burst time of the processes: \\n\")\n",
    "bt=list(map(int, input().split()))\n",
    "wt=[]\n",
    "avgwt=0\n",
    "tat=[]\n",
    "avgtat=0\n",
    "wt.insert(0,0)\n",
    "tat.insert(0,bt[0])\n",
    "for i in range(1,len(bt)):\n",
    "    wt.insert(i,wt[i-1]+bt[i-1])\n",
    "    tat.insert(i,wt[i]+bt[i])\n",
    "    avgwt+=wt[i]\n",
    "    avgtat+=tat[i]\n",
    "\n",
    "avgwt=float(avgwt)/n\n",
    "avgtat=float(avgtat)/n\n",
    "print(\"\\n\")\n",
    "print(\"Process\\t  Burst Time\\t  Waiting Time\\t  Turn Around Time\")\n",
    "for i in range(0,n):\n",
    "    print(str(i)+\"\\t\\t\"+str(bt[i])+\"\\t\\t\"+str(wt[i])+\"\\t\\t\"+str(tat[i]))\n",
    "    print(\"\\n\")\n",
    "print(\"Average Waiting time is: \"+str(avgwt))\n",
    "print(\"Average TurnAround Time is: \"+str(avgtat))\n"
   ]
  }
 ],
 "metadata": {
  "kernelspec": {
   "display_name": "Python 3",
   "language": "python",
   "name": "python3"
  },
  "language_info": {
   "codemirror_mode": {
    "name": "ipython",
    "version": 3
   },
   "file_extension": ".py",
   "mimetype": "text/x-python",
   "name": "python",
   "nbconvert_exporter": "python",
   "pygments_lexer": "ipython3",
   "version": "3.7.7"
  }
 },
 "nbformat": 4,
 "nbformat_minor": 4
}
