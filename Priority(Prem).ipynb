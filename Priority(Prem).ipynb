{
 "cells": [
  {
   "cell_type": "code",
   "execution_count": 2,
   "metadata": {},
   "outputs": [
    {
     "name": "stdout",
     "output_type": "stream",
     "text": [
      "Process_no\tStart_time\tComplete_time \tTurn_Around_Time\tWaiting_Time\n",
      "2 \t\t 1 \t\t 4 \t\t 3 \t\t\t 0\n",
      "1 \t\t 4 \t\t 11 \t\t 9 \t\t\t 2\n",
      "3 \t\t 11 \t\t 17 \t\t 14 \t\t\t 8\n",
      "4 \t\t 17 \t\t 26 \t\t 22 \t\t\t 13\n",
      "5 \t\t 26 \t\t 38 \t\t 33 \t\t\t 21\n",
      "Average waiting time is :  8.8\n",
      "average turnaround time :  16.2\n"
     ]
    }
   ],
   "source": [
    "totalprocess = 5\n",
    "proc = [] \n",
    "for i in range(5): \n",
    "    l = [] \n",
    "    for j in range(4): \n",
    "        l.append(0) \n",
    "    proc.append(l)\n",
    "def get_waiting_time( wt):  \n",
    "    \n",
    "    service = [0] * 5  \n",
    "    service[0] = 0\n",
    "    wt[0] = 0\n",
    "  \n",
    "    for i in range(1, totalprocess):  \n",
    "        service[i] = proc[i - 1][1] + service[i - 1]  \n",
    "        wt[i] = service[i] - proc[i][0] + 1\n",
    "        \n",
    "        if(wt[i] < 0) :      \n",
    "            wt[i] = 0\n",
    "def get_tat_time(tat, wt):    \n",
    "    for i in range(totalprocess): \n",
    "        tat[i] = proc[i][1] + wt[i]\n",
    "def findgc(): \n",
    "    wt = [0] * 5\n",
    "    tat = [0] * 5\n",
    "    wavg = 0\n",
    "    tavg = 0    \n",
    "    get_waiting_time(wt)  \n",
    "    get_tat_time(tat, wt)   \n",
    "    stime = [0] * 5\n",
    "    ctime = [0] * 5\n",
    "    stime[0] = 1\n",
    "    ctime[0] = stime[0] + tat[0]     \n",
    "    for i in range(1, totalprocess):  \n",
    "        stime[i] = ctime[i - 1]  \n",
    "        ctime[i] = stime[i] + tat[i] - wt[i]    \n",
    "    print(\"Process_no\\tStart_time\\tComplete_time\", \n",
    "               \"\\tTurn_Around_Time\\tWaiting_Time\")     \n",
    "    for i in range(totalprocess): \n",
    "        wavg += wt[i]  \n",
    "        tavg += tat[i]            \n",
    "        print(proc[i][3], \"\\t\\t\", stime[i],  \n",
    "                         \"\\t\\t\", end = \" \") \n",
    "        print(ctime[i], \"\\t\\t\", tat[i], \"\\t\\t\\t\", wt[i])          \n",
    "    print(\"Average waiting time is : \", end = \" \") \n",
    "    print(wavg / totalprocess) \n",
    "    print(\"average turnaround time : \" , end = \" \") \n",
    "    print(tavg / totalprocess)\n",
    "if __name__ ==\"__main__\": \n",
    "    arrivaltime = [2, 1, 3, 4, 5] \n",
    "    bursttime = [7, 3, 6, 9, 12] \n",
    "    priority = [1, 2, 3, 4, 5]        \n",
    "    for i in range(totalprocess):    \n",
    "        proc[i][0] = arrivaltime[i]  \n",
    "        proc[i][1] = bursttime[i]  \n",
    "        proc[i][2] = priority[i]  \n",
    "        proc[i][3] = i + 1  \n",
    "    proc = sorted (proc, key = lambda x:x[2]) \n",
    "    proc = sorted (proc)   \n",
    "    findgc()\n"
   ]
  },
  {
   "cell_type": "code",
   "execution_count": null,
   "metadata": {},
   "outputs": [],
   "source": []
  }
 ],
 "metadata": {
  "kernelspec": {
   "display_name": "Python 3",
   "language": "python",
   "name": "python3"
  },
  "language_info": {
   "codemirror_mode": {
    "name": "ipython",
    "version": 3
   },
   "file_extension": ".py",
   "mimetype": "text/x-python",
   "name": "python",
   "nbconvert_exporter": "python",
   "pygments_lexer": "ipython3",
   "version": "3.7.7"
  }
 },
 "nbformat": 4,
 "nbformat_minor": 4
}
